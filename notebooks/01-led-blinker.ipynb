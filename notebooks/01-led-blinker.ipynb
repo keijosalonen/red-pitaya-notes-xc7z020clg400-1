{
 "cells": [
  {
   "attachments": {},
   "cell_type": "markdown",
   "metadata": {},
   "source": [
    "### LED blinker\n",
    "\n",
    "This first notebook shows how to program the FPGA on the Red Pitaya board using the [pyhubio](https://github.com/pavel-demin/pyhubio) library."
   ]
  },
  {
   "attachments": {},
   "cell_type": "markdown",
   "metadata": {},
   "source": [
    "Import the `PyhubTCP` class from the [pyhubio](https://github.com/pavel-demin/pyhubio) library and instantiate it."
   ]
  },
  {
   "cell_type": "code",
   "execution_count": null,
   "metadata": {},
   "outputs": [],
   "source": [
    "from pyhubio import PyhubTCP\n",
    "\n",
    "io = PyhubTCP(\"192.168.1.100\")"
   ]
  },
  {
   "attachments": {},
   "cell_type": "markdown",
   "metadata": {},
   "source": [
    "Start I/O, program the FPGA using the `led_blinker.bit` file and stop I/O."
   ]
  },
  {
   "cell_type": "code",
   "execution_count": null,
   "metadata": {},
   "outputs": [],
   "source": [
    "io.start()\n",
    "io.program(\"led_blinker.bit\")\n",
    "io.stop()"
   ]
  },
  {
   "attachments": {},
   "cell_type": "markdown",
   "metadata": {},
   "source": [
    "If the FPGA is programmed successfully, the LED 0 on the Red Pitaya board should start blinking."
   ]
  }
 ],
 "metadata": {
  "kernelspec": {
   "display_name": "Python 3 (ipykernel)",
   "language": "python",
   "name": "python3"
  },
  "language_info": {
   "codemirror_mode": {
    "name": "ipython",
    "version": 3
   },
   "file_extension": ".py",
   "mimetype": "text/x-python",
   "name": "python",
   "nbconvert_exporter": "python",
   "pygments_lexer": "ipython3"
  }
 },
 "nbformat": 4,
 "nbformat_minor": 4
}
