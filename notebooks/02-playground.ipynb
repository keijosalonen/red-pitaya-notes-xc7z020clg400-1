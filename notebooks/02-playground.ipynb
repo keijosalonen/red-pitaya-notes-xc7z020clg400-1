{
 "cells": [
  {
   "attachments": {},
   "cell_type": "markdown",
   "metadata": {},
   "source": [
    "### Playground\n",
    "\n",
    "This notebook shows how to communicate with configuration registers, status registers and AXI4-Stream interfaces inside the FPGA using the [pyhubio](https://github.com/pavel-demin/pyhubio) library."
   ]
  },
  {
   "attachments": {},
   "cell_type": "markdown",
   "metadata": {},
   "source": [
    "Import the required libraries and instantiate `PyhubTCP`."
   ]
  },
  {
   "cell_type": "code",
   "execution_count": null,
   "metadata": {},
   "outputs": [],
   "source": [
    "from pyhubio import PyhubTCP\n",
    "import numpy as np\n",
    "import pylab as pl\n",
    "import time\n",
    "\n",
    "io = PyhubTCP(\"192.168.1.100\")"
   ]
  },
  {
   "attachments": {},
   "cell_type": "markdown",
   "metadata": {},
   "source": [
    "Start I/O and program the FPGA."
   ]
  },
  {
   "cell_type": "code",
   "execution_count": null,
   "metadata": {},
   "outputs": [],
   "source": [
    "io.start()\n",
    "io.program(\"playground.bit\")"
   ]
  },
  {
   "attachments": {},
   "cell_type": "markdown",
   "metadata": {},
   "source": [
    "The port number (hub address) of the configuration registers is 0.\n",
    "\n",
    "The 8-bit configuration register at address 4 is connected to the LEDs on the Red Pitaya board.\n",
    "\n",
    "The following script turns all the LEDs on and off several times."
   ]
  },
  {
   "cell_type": "code",
   "execution_count": null,
   "metadata": {},
   "outputs": [],
   "source": [
    "pins = np.zeros(1, np.uint32)\n",
    "\n",
    "for i in range(10):\n",
    "    pins[0] ^= 255\n",
    "    io.write(pins, port=0, addr=4)\n",
    "    time.sleep(0.5)"
   ]
  },
  {
   "attachments": {},
   "cell_type": "markdown",
   "metadata": {},
   "source": [
    "The port number (hub address) of the status registers is 1.\n",
    "\n",
    "The 32-bit configuration register at address 8 is connected to the 16-bit inputs of the DSP48 multiplier and the status register at address 4 is connected to the 32-bit output of the multiplier.\n",
    "\n",
    "The following script writes two 16-bit integer values to be multiplied in the configuration register at address 4 and reads the result of the multiplication from the status register at address 4."
   ]
  },
  {
   "cell_type": "code",
   "execution_count": null,
   "metadata": {},
   "outputs": [],
   "source": [
    "input = np.array([6, 7], np.int16)\n",
    "io.write(input, port=0, addr=8)\n",
    "\n",
    "output = np.zeros(1, np.int32)\n",
    "io.read(output, port=1, addr=4)\n",
    "\n",
    "print(output[0])"
   ]
  },
  {
   "attachments": {},
   "cell_type": "markdown",
   "metadata": {},
   "source": [
    "The second AXI4-Stream interface has port number (hub address) 3. Its slave side is connected to a counter that increments after each read transaction.\n",
    "\n",
    "The following script reads 10 numbers from the counter."
   ]
  },
  {
   "cell_type": "code",
   "execution_count": null,
   "metadata": {},
   "outputs": [],
   "source": [
    "output = np.zeros(10, np.int32)\n",
    "io.read(output, port=3, addr=0)\n",
    "\n",
    "print(output)"
   ]
  },
  {
   "attachments": {},
   "cell_type": "markdown",
   "metadata": {},
   "source": [
    "The third BRAM interface has port number (hub address) 4. It is connected to a BRAM buffer used by the XADC interface.\n",
    "\n",
    "The following script reads the slow analog inputs using this BRAM interface."
   ]
  },
  {
   "cell_type": "code",
   "execution_count": null,
   "metadata": {},
   "outputs": [],
   "source": [
    "buffer = np.zeros(32, np.uint32)\n",
    "io.read(buffer, port=4, addr=0)\n",
    "\n",
    "print(buffer[16], buffer[17], buffer[24], buffer[25])"
   ]
  },
  {
   "attachments": {},
   "cell_type": "markdown",
   "metadata": {},
   "source": [
    "The first BRAM interface has port number (hub address) 2. It is connected to a 64 kB BRAM buffer and the content of this buffer is continuously sent to the DAC interface.\n",
    "\n",
    "The following scripts show how to generate Gaussian shaped pulses."
   ]
  },
  {
   "attachments": {},
   "cell_type": "markdown",
   "metadata": {},
   "source": [
    "Create custom pulse shape."
   ]
  },
  {
   "cell_type": "code",
   "execution_count": null,
   "metadata": {},
   "outputs": [],
   "source": [
    "def gauss(x, A, x0, sigma):\n",
    "    return A * np.exp(-((x - x0) ** 2) / (2 * sigma**2))\n",
    "\n",
    "pulse = gauss(np.arange(0, 16384, 1), 1, 5000, 500)\n",
    "pulse = np.int16(np.floor(pulse * 8191 + 0.5))\n",
    "\n",
    "pl.figure(figsize=[8, 2], dpi=150, constrained_layout=True)\n",
    "\n",
    "pl.plot(pulse)\n",
    "pl.grid()"
   ]
  },
  {
   "attachments": {},
   "cell_type": "markdown",
   "metadata": {},
   "source": [
    "Send the pulse shape to the BRAM buffer."
   ]
  },
  {
   "cell_type": "code",
   "execution_count": null,
   "metadata": {},
   "outputs": [],
   "source": [
    "size = 16384\n",
    "buffer = np.zeros(size * 2, np.int16)\n",
    "buffer[0::2] = pulse\n",
    "\n",
    "io.write(buffer, port=2, addr=0)"
   ]
  },
  {
   "attachments": {},
   "cell_type": "markdown",
   "metadata": {},
   "source": [
    "The ADC interface is connected to the slave side of the first AXI4-Stream interface via an intermediate 64 kB FIFO buffer.\n",
    "\n",
    "The following scripts shows how to read ADC samples."
   ]
  },
  {
   "attachments": {},
   "cell_type": "markdown",
   "metadata": {},
   "source": [
    "Initialize variables."
   ]
  },
  {
   "cell_type": "code",
   "execution_count": null,
   "metadata": {},
   "outputs": [],
   "source": [
    "size = 16384\n",
    "buffer = np.zeros(size * 2, np.int16)\n",
    "status = np.zeros(1, np.uint16)"
   ]
  },
  {
   "attachments": {},
   "cell_type": "markdown",
   "metadata": {},
   "source": [
    "Reset the FIFO buffer, wait until the FIFO buffer is full, then read ADC samples from the FIFO buffer and plot the ADC samples separately for two channels."
   ]
  },
  {
   "cell_type": "code",
   "execution_count": null,
   "metadata": {},
   "outputs": [],
   "source": [
    "io.edge(0, 1, positive=True, addr=0)\n",
    "\n",
    "while status[0] < size:\n",
    "    time.sleep(0.1)\n",
    "    io.read(status, port=1, addr=0)\n",
    "\n",
    "io.read(buffer, port=2, addr=0)\n",
    "\n",
    "ch1 = buffer[0::2]\n",
    "ch2 = buffer[1::2]\n",
    "\n",
    "pl.figure(figsize=[8, 4], dpi=150, constrained_layout=True)\n",
    "\n",
    "pl.plot(ch1)\n",
    "pl.plot(ch2)\n",
    "\n",
    "pl.xlabel(\"sample number\")\n",
    "pl.ylabel(\"ADC units\")\n",
    "\n",
    "pl.ylim(-9000, 9000)\n",
    "pl.grid()"
   ]
  },
  {
   "attachments": {},
   "cell_type": "markdown",
   "metadata": {},
   "source": [
    "Stop I/O."
   ]
  },
  {
   "cell_type": "code",
   "execution_count": null,
   "metadata": {},
   "outputs": [],
   "source": [
    "io.stop()"
   ]
  }
 ],
 "metadata": {
  "kernelspec": {
   "display_name": "Python 3 (ipykernel)",
   "language": "python",
   "name": "python3"
  },
  "language_info": {
   "codemirror_mode": {
    "name": "ipython",
    "version": 3
   },
   "file_extension": ".py",
   "mimetype": "text/x-python",
   "name": "python",
   "nbconvert_exporter": "python",
   "pygments_lexer": "ipython3"
  }
 },
 "nbformat": 4,
 "nbformat_minor": 4
}
